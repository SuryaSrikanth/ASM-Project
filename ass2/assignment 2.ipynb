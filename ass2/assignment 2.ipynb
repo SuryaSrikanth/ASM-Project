{
 "cells": [
  {
   "cell_type": "markdown",
   "metadata": {},
   "source": [
    "# Question 1\n"
   ]
  },
  {
   "cell_type": "code",
   "execution_count": 1,
   "metadata": {},
   "outputs": [
    {
     "data": {
      "text/html": [
       "<div>\n",
       "<style scoped>\n",
       "    .dataframe tbody tr th:only-of-type {\n",
       "        vertical-align: middle;\n",
       "    }\n",
       "\n",
       "    .dataframe tbody tr th {\n",
       "        vertical-align: top;\n",
       "    }\n",
       "\n",
       "    .dataframe thead th {\n",
       "        text-align: right;\n",
       "    }\n",
       "</style>\n",
       "<table border=\"1\" class=\"dataframe\">\n",
       "  <thead>\n",
       "    <tr style=\"text-align: right;\">\n",
       "      <th></th>\n",
       "      <th>Potentially Recoverable Loan(PRL)</th>\n",
       "      <th>Potentially Defaultable Loan(PDL)</th>\n",
       "      <th>NPAs</th>\n",
       "      <th>Recovered Loans(RL)</th>\n",
       "    </tr>\n",
       "  </thead>\n",
       "  <tbody>\n",
       "    <tr>\n",
       "      <th>Potentially Recoverable Loan(PRL)</th>\n",
       "      <td>0.70</td>\n",
       "      <td>0.05</td>\n",
       "      <td>0.03</td>\n",
       "      <td>0.22</td>\n",
       "    </tr>\n",
       "    <tr>\n",
       "      <th>Potentially Defaultable Loan(PDL)</th>\n",
       "      <td>0.05</td>\n",
       "      <td>0.55</td>\n",
       "      <td>0.35</td>\n",
       "      <td>0.05</td>\n",
       "    </tr>\n",
       "    <tr>\n",
       "      <th>NPAs</th>\n",
       "      <td>0.00</td>\n",
       "      <td>0.00</td>\n",
       "      <td>1.00</td>\n",
       "      <td>0.00</td>\n",
       "    </tr>\n",
       "    <tr>\n",
       "      <th>Recovered Loans(RL)</th>\n",
       "      <td>0.00</td>\n",
       "      <td>0.00</td>\n",
       "      <td>0.00</td>\n",
       "      <td>1.00</td>\n",
       "    </tr>\n",
       "  </tbody>\n",
       "</table>\n",
       "</div>"
      ],
      "text/plain": [
       "                                   Potentially Recoverable Loan(PRL)  \\\n",
       "Potentially Recoverable Loan(PRL)                               0.70   \n",
       "Potentially Defaultable Loan(PDL)                               0.05   \n",
       "NPAs                                                            0.00   \n",
       "Recovered Loans(RL)                                             0.00   \n",
       "\n",
       "                                   Potentially Defaultable Loan(PDL)  NPAs  \\\n",
       "Potentially Recoverable Loan(PRL)                               0.05  0.03   \n",
       "Potentially Defaultable Loan(PDL)                               0.55  0.35   \n",
       "NPAs                                                            0.00  1.00   \n",
       "Recovered Loans(RL)                                             0.00  0.00   \n",
       "\n",
       "                                   Recovered Loans(RL)  \n",
       "Potentially Recoverable Loan(PRL)                 0.22  \n",
       "Potentially Defaultable Loan(PDL)                 0.05  \n",
       "NPAs                                              0.00  \n",
       "Recovered Loans(RL)                               1.00  "
      ]
     },
     "execution_count": 1,
     "metadata": {},
     "output_type": "execute_result"
    }
   ],
   "source": [
    "import numpy as np\n",
    "import pandas as pd\n",
    "\n",
    "indexes = np.array([\"Potentially Recoverable Loan(PRL)\",\"Potentially Defaultable Loan(PDL)\",\"NPAs\",\"Recovered Loans(RL)\"])\n",
    "\n",
    "transition_matrix = np.array([[0.7,0.05,0.03,0.22],[0.05,0.55,0.35,0.05],[0,0,1,0],[0,0,0,1]])\n",
    "\n",
    "df = pd.DataFrame(data=transition_matrix,index=indexes,columns=indexes)\n",
    "df"
   ]
  },
  {
   "cell_type": "markdown",
   "metadata": {},
   "source": [
    "We know P1 + P2 = 1\n",
    "\n",
    "Lets consider 3 cases<br>\n",
    "a. P1 = 1 and P2 = 0<br>\n",
    "b. P1 = 0.5 and P2 = 0.5<br>\n",
    "c. P1 = 0 and P2 = 1<br>"
   ]
  },
  {
   "cell_type": "code",
   "execution_count": 2,
   "metadata": {},
   "outputs": [
    {
     "name": "stdout",
     "output_type": "stream",
     "text": [
      "\n",
      "For Initial probability of\n",
      "PRL- 1 \n",
      "PDL- 0 \n",
      "NPA- 0 \n",
      "RL- 0\n",
      "\n",
      "After Simulation probability of\n",
      "PRL- 5e-324 \n",
      "PDL- 5e-324 \n",
      "NPA- 0.2339622641509434 \n",
      "RL- 0.7660377358490565\n",
      "\n",
      "-----------------------------------------------------------\n",
      "\n",
      "\n",
      "For Initial probability of\n",
      "PRL- 0.5 \n",
      "PDL- 0.5 \n",
      "NPA- 0.0 \n",
      "RL- 0.0\n",
      "\n",
      "After Simulation probability of\n",
      "PRL- 5e-324 \n",
      "PDL- 5e-324 \n",
      "NPA- 0.5188679245283017 \n",
      "RL- 0.4811320754716981\n",
      "\n",
      "-----------------------------------------------------------\n",
      "\n",
      "\n",
      "For Initial probability of\n",
      "PRL- 0 \n",
      "PDL- 1 \n",
      "NPA- 0 \n",
      "RL- 0\n",
      "\n",
      "After Simulation probability of\n",
      "PRL- 5e-324 \n",
      "PDL- 5e-324 \n",
      "NPA- 0.8037735849056609 \n",
      "RL- 0.1962264150943396\n",
      "\n",
      "-----------------------------------------------------------\n",
      "\n",
      "\n",
      "For Initial probability of\n",
      "PRL- 0.8 \n",
      "PDL- 0.2 \n",
      "NPA- 0.0 \n",
      "RL- 0.0\n",
      "\n",
      "After Simulation probability of\n",
      "PRL- 5e-324 \n",
      "PDL- 5e-324 \n",
      "NPA- 0.34792452830188686 \n",
      "RL- 0.6520754716981134\n",
      "\n",
      "-----------------------------------------------------------\n",
      "\n"
     ]
    }
   ],
   "source": [
    "def run_simul1(initial_prob, transition_matrix, times):\n",
    "    next_mat = initial_prob.dot(transition_matrix)\n",
    "    for i in range(0, times):\n",
    "        next_mat = next_mat.dot(transition_matrix)\n",
    "#     print(next_mat)\n",
    "    beautify(initial_prob, next_mat)    \n",
    "    #verification    \n",
    "#     print(next_mat.sum())\n",
    "\n",
    "def beautify(initial, matrix):\n",
    "    print('\\nFor Initial probability of\\nPRL-',initial[0],'\\nPDL-',initial[1],'\\nNPA-',initial[2],'\\nRL-',initial[3])\n",
    "    print('\\nAfter Simulation probability of\\nPRL-',matrix[0],'\\nPDL-',matrix[1],'\\nNPA-',matrix[2],'\\nRL-',matrix[3])\n",
    "    print('\\n-----------------------------------------------------------\\n')\n",
    "    \n",
    "    \n",
    "initial_prob1 = np.array([1,0,0,0])    \n",
    "initial_prob2 = np.array([0.5,0.5,0,0])    \n",
    "initial_prob3 = np.array([0,1,0,0])\n",
    "initial_prob4 = np.array([0.8,0.2,0,0])\n",
    "\n",
    "run_simul1(initial_prob1, transition_matrix,500000)    \n",
    "run_simul1(initial_prob2, transition_matrix,500000) \n",
    "run_simul1(initial_prob3, transition_matrix,500000)\n",
    "run_simul1(initial_prob4, transition_matrix,500000) \n"
   ]
  },
  {
   "cell_type": "markdown",
   "metadata": {},
   "source": [
    "### Results\n",
    "\n",
    "For a bank to have good profits, it needs to give out more potentially recoverable loans than Potentially defaultable loans\n",
    "\n",
    "a) If we start out by giving only Potentially recoverable loans. There is a 0.77 probability that the loan will be recovered.\n",
    "\n",
    "b) If we start by giving equal number of PRL and PDL loans, there is a 0.51 probability of it getting recovered. \n",
    "\n",
    "c) If we start out by giving only Potentially Defaultable loans. There is a 0.19 probability that the loan will be recovered.\n",
    "\n",
    "---\n"
   ]
  },
  {
   "cell_type": "markdown",
   "metadata": {},
   "source": [
    "# Question 2"
   ]
  },
  {
   "cell_type": "code",
   "execution_count": 33,
   "metadata": {},
   "outputs": [
    {
     "name": "stdout",
     "output_type": "stream",
     "text": [
      "Let us run simulation for a large number  1000000000\n",
      "Value gotten using Prime Number Theorem is: 16.179665848612785\n",
      "1  -  7.037894121934784e-07\n",
      "2  -  5.982210003644566e-06\n",
      "3  -  3.389919002065254e-05\n",
      "4  -  0.0001440715575877733\n",
      "5  -  0.0004898432957984292\n",
      "6  -  0.0013878893380955494\n",
      "7  -  0.0033705883925177634\n",
      "8  -  0.007162500334100246\n",
      "9  -  0.013529167297744909\n",
      "10  -  0.022999584406166347\n",
      "11  -  0.035544812264075264\n",
      "12  -  0.050355150707439955\n",
      "13  -  0.06584904323280609\n",
      "14  -  0.07995955249697884\n",
      "15  -  0.09062082616324268\n",
      "16  -  0.09628462779844535\n",
      "17  -  0.09628462779844535\n",
      "18  -  0.09093548180964281\n",
      "19  -  0.08136332582968041\n",
      "20  -  0.06915882695522836\n",
      "21  -  0.05598571705899438\n",
      "22  -  0.04326169045467748\n",
      "23  -  0.03197603207519639\n",
      "24  -  0.022649689386597453\n",
      "25  -  0.015401788782886266\n"
     ]
    },
    {
     "data": {
      "image/png": "[encoded data removed]",
      "text/plain": [
       "<Figure size 432x288 with 1 Axes>"
      ]
     },
     "metadata": {
      "needs_background": "light"
     },
     "output_type": "display_data"
    }
   ],
   "source": [
    "import math\n",
    "import numpy as np\n",
    "import matplotlib.pyplot as plt\n",
    "def no_of_primes(a,b):\n",
    "    count = 0\n",
    "    for i in range(a,b+1):\n",
    "        if i > 1:\n",
    "            for j in range(2, math.ceil(i/2)):\n",
    "                if (i % j == 0 ):\n",
    "                    break\n",
    "            else:\n",
    "                count = count+1\n",
    "    return count                \n",
    "\n",
    "\n",
    "def prime_no_theorem(a, b):\n",
    "    result = (b*1.0/math.log(b,math.exp(1))) - (a*1.0/math.log(a,math.exp(1)))\n",
    "    return result\n",
    "\n",
    "def poisson_val(x, mean):\n",
    "    t1 = math.exp(-mean) * (mean ** x)\n",
    "    t2 = math.factorial(x)\n",
    "    return t1 / t2\n",
    "\n",
    "\n",
    "def run_simulation(a, l):\n",
    "    b = int(a) + (l *(math.log(a)))\n",
    "    observed = prime_no_theorem(a,b)\n",
    "    print('Value gotten using Prime Number Theorem is:',observed)\n",
    "    a = np.array([0])\n",
    "    for i in range(1,int(observed) + 10):\n",
    "        val = poisson_val(i,l)\n",
    "        a = np.append(a,[val])       \n",
    "        print(i,' - ',val)    \n",
    "    plt.plot(a)\n",
    "\n",
    "num = 1000000000\n",
    "print('Let us run simulation for a large number ',num)    \n",
    "run_simulation(num, 17)    "
   ]
  },
  {
   "cell_type": "markdown",
   "metadata": {},
   "source": [
    "primes between \n",
    "\n",
    "1 - 100 = 25\n",
    "\n",
    "1 - 1000 = 169\n",
    "\n",
    "1 - 10000 = 1229\n",
    "\n",
    "1 - 100000  = 9593\n",
    "\n",
    "1 - 1000000 = 78498\n",
    "\n",
    "1 - 100000000 = 5761455\n"
   ]
  },
  {
   "cell_type": "markdown",
   "metadata": {},
   "source": [
    "# Question 3"
   ]
  },
  {
   "cell_type": "code",
   "execution_count": null,
   "metadata": {},
   "outputs": [],
   "source": []
  }
 ],
 "metadata": {
  "kernelspec": {
   "display_name": "Python 3",
   "language": "python",
   "name": "python3"
  },
  "language_info": {
   "codemirror_mode": {
    "name": "ipython",
    "version": 3
   },
   "file_extension": ".py",
   "mimetype": "text/x-python",
   "name": "python",
   "nbconvert_exporter": "python",
   "pygments_lexer": "ipython3",
   "version": "3.7.7"
  }
 },
 "nbformat": 4,
 "nbformat_minor": 4
}
