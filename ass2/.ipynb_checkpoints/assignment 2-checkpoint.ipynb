{
 "cells": [
  {
   "cell_type": "markdown",
   "metadata": {},
   "source": [
    "# Question 1\n"
   ]
  },
  {
   "cell_type": "code",
   "execution_count": 3,
   "metadata": {},
   "outputs": [
    {
     "data": {
      "text/html": [
       "<div>\n",
       "<style scoped>\n",
       "    .dataframe tbody tr th:only-of-type {\n",
       "        vertical-align: middle;\n",
       "    }\n",
       "\n",
       "    .dataframe tbody tr th {\n",
       "        vertical-align: top;\n",
       "    }\n",
       "\n",
       "    .dataframe thead th {\n",
       "        text-align: right;\n",
       "    }\n",
       "</style>\n",
       "<table border=\"1\" class=\"dataframe\">\n",
       "  <thead>\n",
       "    <tr style=\"text-align: right;\">\n",
       "      <th></th>\n",
       "      <th>Potentially Recoverable Loan(PRL)</th>\n",
       "      <th>Potentially Defaultable Loan(PDL)</th>\n",
       "      <th>NPAs</th>\n",
       "      <th>Recovered Loans(RL)</th>\n",
       "    </tr>\n",
       "  </thead>\n",
       "  <tbody>\n",
       "    <tr>\n",
       "      <th>Potentially Recoverable Loan(PRL)</th>\n",
       "      <td>0.70</td>\n",
       "      <td>0.05</td>\n",
       "      <td>0.03</td>\n",
       "      <td>0.22</td>\n",
       "    </tr>\n",
       "    <tr>\n",
       "      <th>Potentially Defaultable Loan(PDL)</th>\n",
       "      <td>0.05</td>\n",
       "      <td>0.55</td>\n",
       "      <td>0.35</td>\n",
       "      <td>0.05</td>\n",
       "    </tr>\n",
       "    <tr>\n",
       "      <th>NPAs</th>\n",
       "      <td>0.00</td>\n",
       "      <td>0.00</td>\n",
       "      <td>1.00</td>\n",
       "      <td>0.00</td>\n",
       "    </tr>\n",
       "    <tr>\n",
       "      <th>Recovered Loans(RL)</th>\n",
       "      <td>0.00</td>\n",
       "      <td>0.00</td>\n",
       "      <td>0.00</td>\n",
       "      <td>1.00</td>\n",
       "    </tr>\n",
       "  </tbody>\n",
       "</table>\n",
       "</div>"
      ],
      "text/plain": [
       "                                   Potentially Recoverable Loan(PRL)  \\\n",
       "Potentially Recoverable Loan(PRL)                               0.70   \n",
       "Potentially Defaultable Loan(PDL)                               0.05   \n",
       "NPAs                                                            0.00   \n",
       "Recovered Loans(RL)                                             0.00   \n",
       "\n",
       "                                   Potentially Defaultable Loan(PDL)  NPAs  \\\n",
       "Potentially Recoverable Loan(PRL)                               0.05  0.03   \n",
       "Potentially Defaultable Loan(PDL)                               0.55  0.35   \n",
       "NPAs                                                            0.00  1.00   \n",
       "Recovered Loans(RL)                                             0.00  0.00   \n",
       "\n",
       "                                   Recovered Loans(RL)  \n",
       "Potentially Recoverable Loan(PRL)                 0.22  \n",
       "Potentially Defaultable Loan(PDL)                 0.05  \n",
       "NPAs                                              0.00  \n",
       "Recovered Loans(RL)                               1.00  "
      ]
     },
     "execution_count": 3,
     "metadata": {},
     "output_type": "execute_result"
    }
   ],
   "source": [
    "import numpy as np\n",
    "import pandas as pd\n",
    "\n",
    "indexes = np.array([\"Potentially Recoverable Loan(PRL)\",\"Potentially Defaultable Loan(PDL)\",\"NPAs\",\"Recovered Loans(RL)\"])\n",
    "\n",
    "transition_matrix = np.array([[0.7,0.05,0.03,0.22],[0.05,0.55,0.35,0.05],[0,0,1,0],[0,0,0,1]])\n",
    "\n",
    "df = pd.DataFrame(data=transition_matrix,index=indexes,columns=indexes)\n",
    "df"
   ]
  },
  {
   "cell_type": "code",
   "execution_count": null,
   "metadata": {},
   "outputs": [],
   "source": []
  },
  {
   "cell_type": "markdown",
   "metadata": {},
   "source": [
    "# Question 2"
   ]
  },
  {
   "cell_type": "code",
   "execution_count": null,
   "metadata": {},
   "outputs": [],
   "source": []
  },
  {
   "cell_type": "markdown",
   "metadata": {},
   "source": [
    "# Question 3"
   ]
  },
  {
   "cell_type": "code",
   "execution_count": null,
   "metadata": {},
   "outputs": [],
   "source": []
  }
 ],
 "metadata": {
  "kernelspec": {
   "display_name": "Python 3",
   "language": "python",
   "name": "python3"
  },
  "language_info": {
   "codemirror_mode": {
    "name": "ipython",
    "version": 3
   },
   "file_extension": ".py",
   "mimetype": "text/x-python",
   "name": "python",
   "nbconvert_exporter": "python",
   "pygments_lexer": "ipython3",
   "version": "3.7.7"
  }
 },
 "nbformat": 4,
 "nbformat_minor": 4
}
