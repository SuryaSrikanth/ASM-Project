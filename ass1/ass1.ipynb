{
 "cells": [
  {
   "cell_type": "markdown",
   "metadata": {},
   "source": [
    "# Question1"
   ]
  },
  {
   "cell_type": "code",
   "execution_count": 1,
   "metadata": {},
   "outputs": [],
   "source": [
    "import numpy as np"
   ]
  },
  {
   "cell_type": "code",
   "execution_count": 2,
   "metadata": {},
   "outputs": [
    {
     "name": "stdout",
     "output_type": "stream",
     "text": [
      "[[0.   0.   1.   0.   0.   0.  ]\n",
      " [0.   0.   1.   0.   0.   0.  ]\n",
      " [0.25 0.25 0.   0.25 0.25 0.  ]\n",
      " [0.   0.   0.5  0.   0.   0.5 ]\n",
      " [0.   0.   0.5  0.   0.   0.5 ]\n",
      " [0.   0.   0.   0.5  0.5  0.  ]]\n"
     ]
    }
   ],
   "source": [
    "transition_matrix = np.array([[0,0,1,0,0,0],[0,0,1,0,0,0],[0.25,0.25,0,0.25,0.25,0],[0,0,0.5,0,0,0.5],[0,0,0.5,0,0,0.5],[0,0,0,0.5,0.5,0]])\n",
    "print(transition_matrix)"
   ]
  },
  {
   "cell_type": "markdown",
   "metadata": {},
   "source": [
    "The chain is irreducible if the transtion probability out of each state is non-zero i.e if it is possible to reach other state from both state. <br>\n",
    "A state in a discrete time markov chain is periodic if the chain can return to the state only at multiles of some specific integer larger than 1."
   ]
  },
  {
   "cell_type": "markdown",
   "metadata": {},
   "source": [
    "## Irreducibility check"
   ]
  },
  {
   "cell_type": "code",
   "execution_count": 3,
   "metadata": {},
   "outputs": [
    {
     "name": "stdout",
     "output_type": "stream",
     "text": [
      "Starting from state  1  mouse can end up in states  [1, 2, 3, 4, 5, 6]\n",
      "Starting from state  2  mouse can end up in states  [1, 2, 3, 4, 5, 6]\n",
      "Starting from state  3  mouse can end up in states  [1, 2, 3, 4, 5, 6]\n",
      "Starting from state  4  mouse can end up in states  [1, 2, 3, 4, 5, 6]\n",
      "Starting from state  5  mouse can end up in states  [1, 2, 3, 4, 5, 6]\n",
      "Starting from state  6  mouse can end up in states  [1, 2, 3, 4, 5, 6]\n"
     ]
    }
   ],
   "source": [
    "def next_step(state,transition_matrix, end_states=[]):\n",
    "    for i in range(len(transition_matrix[state -1])):\n",
    "        if(transition_matrix[state -1][i] != 0):\n",
    "            end_states.append(i+1)\n",
    "    return end_states\n",
    "\n",
    "\n",
    "def can_move_to(state, transition_matrix):\n",
    "    end_states = next_step(state,transition_matrix)\n",
    "    if(len(end_states) == 0 ):\n",
    "        return False\n",
    "    indx = 0\n",
    "    while(indx < len(end_states)):   \n",
    "        next_states = next_step(end_states[indx],transition_matrix)\n",
    "        end_states = list(set(end_states) | set(next_states))   \n",
    "        indx = indx+1     \n",
    "    return end_states\n",
    "\n",
    "    \n",
    "for i in range(len(transition_matrix[0])):    \n",
    "    print('Starting from state ',i+1,' mouse can end up in states ',can_move_to(i+1, transition_matrix))    "
   ]
  },
  {
   "cell_type": "markdown",
   "metadata": {},
   "source": [
    "##### It is irreducible."
   ]
  },
  {
   "cell_type": "markdown",
   "metadata": {},
   "source": [
    "## Periodicity Check"
   ]
  },
  {
   "cell_type": "code",
   "execution_count": null,
   "metadata": {},
   "outputs": [],
   "source": []
  },
  {
   "cell_type": "markdown",
   "metadata": {},
   "source": [
    "## Stationary Distribution"
   ]
  },
  {
   "cell_type": "markdown",
   "metadata": {},
   "source": [
    " <ul>\n",
    "    <li>(X3)/4 = (X1)</li>\n",
    "    <li>(X3)/4=  (X2)</li>\n",
    "    <li>(X1) + (X2) + ((X4)/2)+ ((X5)/2) = (X3) </li>\n",
    "    <li>((X3)/4) + ((X6)/2) = (X2)</li>\n",
    "    <li>((X3)/4) + ((X6)/2) = (X2)</li>\n",
    "    <li>((X4)/2) + ((X5)/2)= (X2)</li>\n",
    "    <li>X1 + X2 + X3 + X4 + X5 + X6 =1</li>\n",
    "</ul>\n",
    "<br>On solving we get: <br>\n",
    "[1/12, 1/12, 1/3, 1/6, 1/6, 1/6]"
   ]
  },
  {
   "cell_type": "code",
   "execution_count": null,
   "metadata": {},
   "outputs": [],
   "source": []
  }
 ],
 "metadata": {
  "kernelspec": {
   "display_name": "Python 3",
   "language": "python",
   "name": "python3"
  },
  "language_info": {
   "codemirror_mode": {
    "name": "ipython",
    "version": 3
   },
   "file_extension": ".py",
   "mimetype": "text/x-python",
   "name": "python",
   "nbconvert_exporter": "python",
   "pygments_lexer": "ipython3",
   "version": "3.7.7"
  }
 },
 "nbformat": 4,
 "nbformat_minor": 4
}
