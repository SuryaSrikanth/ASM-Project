{
 "cells": [
  {
   "cell_type": "markdown",
   "metadata": {},
   "source": [
    "# Question1"
   ]
  },
  {
   "cell_type": "code",
   "execution_count": 1,
   "metadata": {},
   "outputs": [],
   "source": [
    "import numpy as np"
   ]
  },
  {
   "cell_type": "code",
   "execution_count": 2,
   "metadata": {},
   "outputs": [
    {
     "name": "stdout",
     "output_type": "stream",
     "text": [
      "[[0.   0.   1.   0.   0.   0.  ]\n",
      " [0.   0.   1.   0.   0.   0.  ]\n",
      " [0.25 0.25 0.   0.25 0.25 0.  ]\n",
      " [0.   0.   0.5  0.   0.   0.5 ]\n",
      " [0.   0.   0.5  0.   0.   0.5 ]\n",
      " [0.   0.   0.   0.5  0.5  0.  ]]\n"
     ]
    }
   ],
   "source": [
    "transition_matrix = np.array([[0,0,1,0,0,0],[0,0,1,0,0,0],[0.25,0.25,0,0.25,0.25,0],[0,0,0.5,0,0,0.5],[0,0,0.5,0,0,0.5],[0,0,0,0.5,0.5,0]])\n",
    "print(transition_matrix)"
   ]
  },
  {
   "cell_type": "markdown",
   "metadata": {},
   "source": [
    "The chain is irreducible if the transtion probability out of each state is non-zero i.e if it is possible to reach other state from both state. <br>\n",
    "A state in a discrete time markov chain is periodic if the chain can return to the state only at multiles of some specific integer larger than 1."
   ]
  },
  {
   "cell_type": "markdown",
   "metadata": {},
   "source": [
    "## Irreducibility check"
   ]
  },
  {
   "cell_type": "code",
   "execution_count": 3,
   "metadata": {},
   "outputs": [
    {
     "name": "stdout",
     "output_type": "stream",
     "text": [
      "Starting from state  1  mouse can end up in states  [1, 2, 3, 4, 5, 6]\n",
      "Starting from state  2  mouse can end up in states  [1, 2, 3, 4, 5, 6]\n",
      "Starting from state  3  mouse can end up in states  [1, 2, 3, 4, 5, 6]\n",
      "Starting from state  4  mouse can end up in states  [1, 2, 3, 4, 5, 6]\n",
      "Starting from state  5  mouse can end up in states  [1, 2, 3, 4, 5, 6]\n",
      "Starting from state  6  mouse can end up in states  [1, 2, 3, 4, 5, 6]\n"
     ]
    }
   ],
   "source": [
    "def next_step(state,transition_matrix, end_states=[]):\n",
    "    for i in range(len(transition_matrix[state -1])):\n",
    "        if(transition_matrix[state -1][i] != 0):\n",
    "            end_states.append(i+1)\n",
    "    return end_states\n",
    "\n",
    "\n",
    "def can_move_to(state, transition_matrix):\n",
    "    end_states = next_step(state,transition_matrix)\n",
    "    if(len(end_states) == 0 ):\n",
    "        return False\n",
    "    indx = 0\n",
    "    while(indx < len(end_states)):   \n",
    "        next_states = next_step(end_states[indx],transition_matrix)\n",
    "        end_states = list(set(end_states) | set(next_states))   \n",
    "        indx = indx+1     \n",
    "    return end_states\n",
    "\n",
    "    \n",
    "for i in range(len(transition_matrix[0])):    \n",
    "    print('Starting from state ',i+1,' mouse can end up in states ',can_move_to(i+1, transition_matrix))    "
   ]
  },
  {
   "cell_type": "markdown",
   "metadata": {},
   "source": [
    "##### It is irreducible."
   ]
  },
  {
   "cell_type": "markdown",
   "metadata": {},
   "source": [
    "## Periodicity Check"
   ]
  },
  {
   "cell_type": "code",
   "execution_count": null,
   "metadata": {},
   "outputs": [],
   "source": []
  },
  {
   "cell_type": "markdown",
   "metadata": {},
   "source": [
    "## Expected time to reach cell 5\n",
    "<img src=\"./written/Q1-c.jpg\" style=\"max-width:450px;float:left\"/>"
   ]
  },
  {
   "cell_type": "markdown",
   "metadata": {},
   "source": [
    "## Stationary Distribution"
   ]
  },
  {
   "cell_type": "markdown",
   "metadata": {},
   "source": [
    " <ul>\n",
    "    <li>(X3)/4 = (X1)</li>\n",
    "    <li>(X3)/4=  (X2)</li>\n",
    "    <li>(X1) + (X2) + ((X4)/2)+ ((X5)/2) = (X3) </li>\n",
    "    <li>((X3)/4) + ((X6)/2) = (X2)</li>\n",
    "    <li>((X3)/4) + ((X6)/2) = (X2)</li>\n",
    "    <li>((X4)/2) + ((X5)/2)= (X2)</li>\n",
    "    <li>X1 + X2 + X3 + X4 + X5 + X6 =1</li>\n",
    "</ul>\n",
    "<br>On solving we get: <br>\n",
    "[1/12, 1/12, 1/3, 1/6, 1/6, 1/6]"
   ]
  },
  {
   "cell_type": "markdown",
   "metadata": {},
   "source": [
    "## When will the mouse visit back room 1\n",
    "E = 1/(X1) = 12"
   ]
  },
  {
   "cell_type": "markdown",
   "metadata": {},
   "source": [
    "# Question 2\n",
    "\n",
    "<br>\n",
    "<img src=\"./written/Q2-1.jpg\" style=\"max-width:450px;float:left\"/>\n",
    "<img src=\"./written/Q2-2.jpg\" style=\"max-width:450px;float:right\"/>"
   ]
  },
  {
   "cell_type": "markdown",
   "metadata": {},
   "source": [
    "# Question 3"
   ]
  },
  {
   "cell_type": "markdown",
   "metadata": {},
   "source": [
    "Build a Markov chain as follows: When in state k (k = 1, 2, 3, 4, 5, 6), roll a die k times,\n",
    "take the largest value and move to that state. \n",
    "\n",
    "(i)\n",
    "Compute the transition probabilities\n",
    "and write down the transition probability matrix. \n",
    "\n",
    "(ii)\n",
    "Is the chain aperiodic? \n",
    "\n",
    "(iii)\n",
    "Does it have a unique stationary distribution? \n",
    "\n",
    "(iv) Can you find which state will be\n",
    "visited more frequently on the average?"
   ]
  },
  {
   "cell_type": "code",
   "execution_count": 18,
   "metadata": {},
   "outputs": [
    {
     "name": "stdout",
     "output_type": "stream",
     "text": [
      "[[1.66666667e-01 1.66666667e-01 1.66666667e-01 1.66666667e-01\n",
      "  1.66666667e-01 1.66666667e-01]\n",
      " [2.77777778e-02 8.33333333e-02 1.38888889e-01 1.94444444e-01\n",
      "  2.50000000e-01 3.05555556e-01]\n",
      " [4.62962963e-03 3.24074074e-02 8.79629630e-02 1.71296296e-01\n",
      "  2.82407407e-01 4.21296296e-01]\n",
      " [7.71604938e-04 1.15740741e-02 5.01543210e-02 1.35030864e-01\n",
      "  2.84722222e-01 5.17746914e-01]\n",
      " [1.28600823e-04 3.98662551e-03 2.71347737e-02 1.00437243e-01\n",
      "  2.70190329e-01 5.98122428e-01]\n",
      " [2.14334705e-05 1.35030864e-03 1.42532579e-02 7.21664952e-02\n",
      "  2.47106481e-01 6.65102023e-01]]\n"
     ]
    }
   ],
   "source": [
    "import numpy as np\n",
    "\n",
    "def get_probability(prev, nxt):\n",
    "    probability = (pow((nxt/6),prev)) - (pow(((nxt-1)/6),prev))\n",
    "    return probability\n",
    "\n",
    "matrix = np.zeros((6,6))\n",
    "for i in range(0,6):\n",
    "    for j in range(0,6):\n",
    "        matrix[i][j] = get_probability(i+1,j+1)\n",
    "print(matrix)    "
   ]
  },
  {
   "cell_type": "markdown",
   "metadata": {},
   "source": [
    "b) Clearly there are self loops. Therefore, the chain is aperiodic\n",
    "\n",
    "c) Each state can move to every other state with some probability, so it is irreducible. The chain is also memoryless with finite number of states. Therefore the chain has a unique stationary distrbution.\n",
    "\n",
    "d) The maximum probability from every state is maximum towards state 6. Therefore, based on probability state 6 is visited the most."
   ]
  },
  {
   "cell_type": "markdown",
   "metadata": {},
   "source": [
    "# Question 4"
   ]
  },
  {
   "cell_type": "code",
   "execution_count": null,
   "metadata": {},
   "outputs": [],
   "source": []
  },
  {
   "cell_type": "markdown",
   "metadata": {},
   "source": [
    "# Question 5"
   ]
  },
  {
   "cell_type": "markdown",
   "metadata": {},
   "source": [
    "### Experiment:\n",
    "\n",
    "Add up successive values of a variable uniformly distributed on [0,1] and return the number of them when their sum first exceeds 1.0. The theoretical average of the probability distribution is e, so average over a large number of experiments should approach this."
   ]
  },
  {
   "cell_type": "code",
   "execution_count": 27,
   "metadata": {},
   "outputs": [
    {
     "name": "stdout",
     "output_type": "stream",
     "text": [
      "The value of e from experiments of 10000 trials is 2.7181\n"
     ]
    }
   ],
   "source": [
    "import numpy as np\n",
    "def e_experiment():\n",
    "    sum=0\n",
    "    n = 0\n",
    "    while(sum < 1):\n",
    "        random = np.random.uniform(low=0.0, high = 1.0)\n",
    "        sum = sum + random\n",
    "        n = n+1   \n",
    "    return n\n",
    "\n",
    "trials = 10000\n",
    "arr = np.array([])\n",
    "\n",
    "for itr in range(0, trials):\n",
    "    arr = np.append(arr, e_experiment())\n",
    "e = arr.mean()\n",
    "print(\"The value of e from experiments of\",trials,\"trials is\",e)"
   ]
  },
  {
   "cell_type": "code",
   "execution_count": null,
   "metadata": {},
   "outputs": [],
   "source": []
  }
 ],
 "metadata": {
  "kernelspec": {
   "display_name": "Python 3",
   "language": "python",
   "name": "python3"
  },
  "language_info": {
   "codemirror_mode": {
    "name": "ipython",
    "version": 3
   },
   "file_extension": ".py",
   "mimetype": "text/x-python",
   "name": "python",
   "nbconvert_exporter": "python",
   "pygments_lexer": "ipython3",
   "version": "3.7.7"
  }
 },
 "nbformat": 4,
 "nbformat_minor": 4
}
